{
 "cells": [
  {
   "cell_type": "code",
   "execution_count": null,
   "metadata": {},
   "outputs": [],
   "source": [
    "# !time mamba install --quiet --yes matplotlib numpy\n",
    "# !conda activate jupy\n",
    "# !conda info"
   ]
  },
  {
   "cell_type": "code",
   "execution_count": null,
   "metadata": {},
   "outputs": [],
   "source": [
    "import numpy as np\n",
    "import matplotlib.pyplot as plt\n",
    "print(\"Hi\")"
   ]
  },
  {
   "cell_type": "code",
   "execution_count": null,
   "metadata": {},
   "outputs": [],
   "source": [
    "X = 50 * np.round(10 * np.random.rand(100))\n",
    "Y = 50 * np.round(10 * np.random.rand(100))\n",
    "C = np.random.rand(100)\n",
    "\n",
    "plt.figure(figsize=(12, 12))\n",
    "sc = plt.scatter(X, Y, s=40**2, c=C, marker='s', cmap='gist_rainbow')\n",
    "plt.scatter(X, Y, s=11**2, c='k')\n",
    "plt.colorbar(sc)\n",
    "plt.axis('equal')\n",
    "plt.show()\n"
   ]
  },
  {
   "cell_type": "code",
   "execution_count": null,
   "metadata": {},
   "outputs": [],
   "source": []
  }
 ],
 "metadata": {
  "kernelspec": {
   "display_name": "Python 3 (ipykernel)",
   "language": "python",
   "name": "python3"
  },
  "language_info": {
   "codemirror_mode": {
    "name": "ipython",
    "version": 3
   },
   "file_extension": ".py",
   "mimetype": "text/x-python",
   "name": "python",
   "nbconvert_exporter": "python",
   "pygments_lexer": "ipython3",
   "version": "3.9.7"
  },
  "vscode": {
   "interpreter": {
    "hash": "7fa8bbacb0be5004a49a7e3eb4b5176efccc69d10e5b1c47a0766830b771341f"
   }
  }
 },
 "nbformat": 4,
 "nbformat_minor": 4
}
