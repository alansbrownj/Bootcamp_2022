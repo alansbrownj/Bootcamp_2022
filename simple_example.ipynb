{
 "cells": [
  {
   "cell_type": "markdown",
   "id": "fd5bda71",
   "metadata": {},
   "source": [
    "# Jypyter example"
   ]
  },
  {
   "cell_type": "code",
   "execution_count": null,
   "id": "5d439021-b49f-4ca4-b296-3967ba7058a1",
   "metadata": {},
   "outputs": [],
   "source": [
    "print(\"testing!\") # code cell"
   ]
  },
  {
   "cell_type": "markdown",
   "id": "e4d36a24",
   "metadata": {},
   "source": [
    "## Code example"
   ]
  },
  {
   "cell_type": "code",
   "execution_count": null,
   "id": "cb5ae277",
   "metadata": {},
   "outputs": [],
   "source": [
    "# example from https://jupyter.org/try-jupyter/lab/\n",
    "from matplotlib import pyplot as plt\n",
    "import numpy as np\n",
    "\n",
    "# Generate 100 random data points along 3 dimensions\n",
    "x, y, scale = np.random.randn(3, 100)\n",
    "x = x*2\n",
    "\n",
    "fig, ax = plt.subplots()\n",
    "\n",
    "# Map each onto a scatterplot we'll create with Matplotlib\n",
    "ax.scatter(x=x, y=y, c=scale, s=np.abs(scale)*500)\n",
    "ax.set(title=\"Some random data\")\n",
    "plt.show()"
   ]
  },
  {
   "cell_type": "code",
   "execution_count": null,
   "id": "6aab33f0",
   "metadata": {},
   "outputs": [],
   "source": [
    "plt.boxplot([x,y,scale], labels = ['x','y','z'])\n",
    "print(f\"Mean of x is: {np.mean(x)}\")"
   ]
  },
  {
   "cell_type": "code",
   "execution_count": null,
   "id": "6aab33f0",
   "metadata": {},
   "outputs": [],
   "source": [
    "plt.boxplot([x,y,scale], labels = ['x','y','z'])"
   ]
  },
  {
   "cell_type": "markdown",
   "id": "05c4994c",
   "metadata": {},
   "source": [
    "## Bash inside jupyter"
   ]
  },
  {
   "cell_type": "code",
   "execution_count": null,
   "id": "8766355e",
   "metadata": {},
   "outputs": [],
   "source": [
    "!ls\n",
    "working_dir=!pwd\n",
    "print(working_dir)"
   ]
  },
  {
   "cell_type": "code",
   "execution_count": 26,
   "id": "e7f2cce4",
   "metadata": {},
   "outputs": [
    {
     "name": "stdout",
     "output_type": "stream",
     "text": [
      "CPU times: user 9.07 s, sys: 49.1 ms, total: 9.12 s\n",
      "Wall time: 9.2 s\n"
     ]
    }
   ],
   "source": [
    "%%time \n",
    "import random\n",
    "loops = int(1e+7)\n",
    "for i in range(loops):\n",
    "    random.random()"
   ]
  },
  {
   "cell_type": "code",
   "execution_count": 27,
   "id": "2da85570",
   "metadata": {},
   "outputs": [
    {
     "name": "stdout",
     "output_type": "stream",
     "text": [
      "CPU times: user 3 µs, sys: 0 ns, total: 3 µs\n",
      "Wall time: 7.15 µs\n"
     ]
    }
   ],
   "source": [
    "%time import random\n",
    "loops = int(1e+7)\n",
    "for i in range(loops):\n",
    "    random.random()"
   ]
  },
  {
   "cell_type": "code",
   "execution_count": null,
   "id": "fec4622c",
   "metadata": {},
   "outputs": [],
   "source": [
    "%%time\n",
    "loops = int(1e+6)\n",
    "x = 0\n",
    "for i in range(loops):\n",
    "    x += i**2\n",
    "print(f\"Done! Final i val was {x}\")"
   ]
  },
  {
   "cell_type": "code",
   "execution_count": null,
   "id": "fec4622c",
   "metadata": {},
   "outputs": [],
   "source": [
    "%%timeit -n 1 -r 3\n",
    "loops = int(1e+6)\n",
    "x = 0\n",
    "for i in range(loops):\n",
    "    x += i**2\n",
    "print(f\"Done! Final i val was {x}\")"
   ]
  },
  {
   "cell_type": "code",
   "execution_count": null,
   "id": "917098f7",
   "metadata": {},
   "outputs": [],
   "source": [
    "# what variables are known to the cell\n",
    "%who\n",
    "# %who str\n",
    "# %who int"
   ]
  },
  {
   "cell_type": "code",
   "execution_count": null,
   "id": "34c83c45",
   "metadata": {},
   "outputs": [],
   "source": [
    "# detailed info on a variable\n",
    "%pinfo working_dir"
   ]
  },
  {
   "cell_type": "code",
   "execution_count": 19,
   "id": "58026882",
   "metadata": {},
   "outputs": [
    {
     "data": {
      "text/plain": [
       "'asb5975'"
      ]
     },
     "execution_count": 19,
     "metadata": {},
     "output_type": "execute_result"
    }
   ],
   "source": [
    "# shows environmental variables\n",
    "%env\n",
    "# %env NEW_VAR=/something/something\n",
    "# %env USER"
   ]
  },
  {
   "cell_type": "code",
   "execution_count": null,
   "id": "5cdbc1d6",
   "metadata": {},
   "outputs": [],
   "source": [
    "# https://www.encodeproject.org/files/ENCFF451IKJ/\n",
    "import os\n",
    "if not os.path.isfile('./data/ENCFF451IKJ.bigWig'):\n",
    "    !mkdir -p ./data\n",
    "    !wget -P ./data https://www.encodeproject.org/files/ENCFF451IKJ/@@download/ENCFF451IKJ.bigWig\n",
    "else:\n",
    "    print(\"file already exists\")"
   ]
  },
  {
   "cell_type": "code",
   "execution_count": null,
   "id": "56664ca5",
   "metadata": {},
   "outputs": [],
   "source": [
    "chrom = \"chr21\"\n",
    "infile = \"./data/ENCFF451IKJ.bigWig\"\n",
    "outfile = \"./data/\"+  chrom + \"_ENCFF451IKJ.bedgraph\"\n",
    "!bigWigToBedGraph -chrom=$chrom $infile $outfile"
   ]
  },
  {
   "cell_type": "code",
   "execution_count": null,
   "id": "f2efb813",
   "metadata": {},
   "outputs": [],
   "source": [
    "!bedops -w $window_size --stagger $step_size --range $window_size $$.temp.ref | \\\n",
    "    !bedmap --skip-unmapped --faster --echo --mean --delim \"\\t\" --bases-uniq-f - $$.temp.ref | awk -F \"\\t\" '{print ($1\"\\t\"$2\"\\t\"$2+1\"\\t\"$4*$5)}' > $(basename ${COL1}).smooth.bdg"
   ]
  }
 ],
 "metadata": {
  "kernelspec": {
   "display_name": "Python 3 (ipykernel)",
   "language": "python",
   "name": "python3"
  },
  "language_info": {
   "codemirror_mode": {
    "name": "ipython",
    "version": 3
   },
   "file_extension": ".py",
   "mimetype": "text/x-python",
   "name": "python",
   "nbconvert_exporter": "python",
   "pygments_lexer": "ipython3",
   "version": "3.8.13"
  },
  "vscode": {
   "interpreter": {
    "hash": "32599ecccfc3b96b1873681ca49c3a88d364a31cf50ab717aeb3c9744c1a4fd1"
   }
  }
 },
 "nbformat": 4,
 "nbformat_minor": 5
}
