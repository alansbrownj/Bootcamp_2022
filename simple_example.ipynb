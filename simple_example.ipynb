{
 "cells": [
  {
   "cell_type": "markdown",
   "id": "fd5bda71",
   "metadata": {},
   "source": [
    "# Jypyter example"
   ]
  },
  {
   "cell_type": "code",
   "execution_count": null,
   "id": "5d439021-b49f-4ca4-b296-3967ba7058a1",
   "metadata": {},
   "outputs": [],
   "source": [
    "print(\"testing!\") # code cell"
   ]
  },
  {
   "cell_type": "markdown",
   "id": "e4d36a24",
   "metadata": {},
   "source": [
    "## Code example"
   ]
  },
  {
   "cell_type": "code",
   "execution_count": null,
   "id": "cb5ae277",
   "metadata": {},
   "outputs": [],
   "source": [
    "# example from https://jupyter.org/try-jupyter/lab/\n",
    "from matplotlib import pyplot as plt\n",
    "import numpy as np\n",
    "\n",
    "# Generate 100 random data points along 3 dimensions\n",
    "x, y, scale = np.random.randn(3, 100)\n",
    "x = x*2\n",
    "\n",
    "fig, ax = plt.subplots()\n",
    "\n",
    "# Map each onto a scatterplot we'll create with Matplotlib\n",
    "ax.scatter(x=x, y=y, c=scale, s=np.abs(scale)*500)\n",
    "ax.set(title=\"Some random data\")\n",
    "plt.show()"
   ]
  },
  {
   "cell_type": "code",
   "execution_count": null,
   "id": "6aab33f0",
   "metadata": {},
   "outputs": [],
   "source": [
    "plt.boxplot([x,y,scale], labels = ['x','y','z'])\n",
    "print(f\"Mean of x is: {np.mean(x)}\")"
   ]
  },
  {
   "cell_type": "markdown",
   "id": "05c4994c",
   "metadata": {},
   "source": [
    "## Bash inside jupyter"
   ]
  },
  {
   "cell_type": "code",
   "execution_count": null,
   "id": "8766355e",
   "metadata": {},
   "outputs": [],
   "source": [
    "!ls\n",
    "working_dir=!pwd\n",
    "print(working_dir)"
   ]
  },
  {
   "cell_type": "markdown",
   "id": "198b917b",
   "metadata": {},
   "source": [
    "## Magic! \n",
    "Magic can be applied to individual lines with one \"%\"\n",
    "Or it can be applied to a whole cell with \"%%\"\n",
    "\n",
    "%time shows how long a line took to run. "
   ]
  },
  {
   "cell_type": "code",
   "execution_count": 27,
   "id": "2da85570",
   "metadata": {},
   "outputs": [
    {
     "name": "stdout",
     "output_type": "stream",
     "text": [
      "CPU times: user 3 µs, sys: 0 ns, total: 3 µs\n",
      "Wall time: 7.15 µs\n"
     ]
    }
   ],
   "source": [
    "%time import random\n",
    "loops = int(1e+7)\n",
    "for i in range(loops):\n",
    "    random.random()"
   ]
  },
  {
   "cell_type": "markdown",
   "id": "6691c43e",
   "metadata": {},
   "source": [
    "A double percent sign shows the time for the whole cell."
   ]
  },
  {
   "cell_type": "code",
   "execution_count": 26,
   "id": "e7f2cce4",
   "metadata": {},
   "outputs": [
    {
     "name": "stdout",
     "output_type": "stream",
     "text": [
      "CPU times: user 9.07 s, sys: 49.1 ms, total: 9.12 s\n",
      "Wall time: 9.2 s\n"
     ]
    }
   ],
   "source": [
    "%%time \n",
    "import random\n",
    "loops = int(1e+7)\n",
    "for i in range(loops):\n",
    "    random.random()"
   ]
  },
  {
   "cell_type": "markdown",
   "id": "ff8aad79",
   "metadata": {},
   "source": [
    "timeit allows functions to be tested several time to get stats accross multiple runs."
   ]
  },
  {
   "cell_type": "code",
   "execution_count": null,
   "id": "fec4622c",
   "metadata": {},
   "outputs": [],
   "source": [
    "%%timeit -n 1 -r 3\n",
    "loops = int(1e+6)\n",
    "x = 0\n",
    "for i in range(loops):\n",
    "    x += i**2\n",
    "print(f\"Done! Final i val was {x}\")"
   ]
  },
  {
   "cell_type": "markdown",
   "id": "c7aca0f7",
   "metadata": {},
   "source": [
    "### More magic..."
   ]
  },
  {
   "cell_type": "code",
   "execution_count": null,
   "id": "917098f7",
   "metadata": {},
   "outputs": [],
   "source": [
    "# what variables are known to the cell\n",
    "%who\n",
    "# %who str\n",
    "# %who int"
   ]
  },
  {
   "cell_type": "code",
   "execution_count": null,
   "id": "34c83c45",
   "metadata": {},
   "outputs": [],
   "source": [
    "# detailed info on a variable\n",
    "%pinfo working_dir"
   ]
  },
  {
   "cell_type": "code",
   "execution_count": 19,
   "id": "58026882",
   "metadata": {},
   "outputs": [
    {
     "data": {
      "text/plain": [
       "'asb5975'"
      ]
     },
     "execution_count": 19,
     "metadata": {},
     "output_type": "execute_result"
    }
   ],
   "source": [
    "# shows environmental variables\n",
    "%env\n",
    "# %env NEW_VAR=/something/something\n",
    "# %env USER"
   ]
  },
  {
   "cell_type": "code",
   "execution_count": 28,
   "id": "44ee850c",
   "metadata": {},
   "outputs": [],
   "source": [
    "# https://towardsdatascience.com/magic-commands-for-profiling-in-jupyter-notebook-d2ef00e29a63\n",
    "from random import random\n",
    "\n",
    "def create_and_sum_matrix(N):\n",
    "    matrix = [[random() for _ in range(N)] for _ in range(N)]\n",
    "    total_by_line = [sum(l) for l in matrix]\n",
    "    total = sum(total_by_line)\n",
    "    return total\n"
   ]
  },
  {
   "cell_type": "code",
   "execution_count": 29,
   "id": "b5369e02",
   "metadata": {},
   "outputs": [
    {
     "name": "stdout",
     "output_type": "stream",
     "text": [
      " "
     ]
    },
    {
     "name": "stdout",
     "output_type": "stream",
     "text": [
      "         1002006 function calls in 0.275 seconds\n",
      "\n",
      "   Ordered by: internal time\n",
      "\n",
      "   ncalls  tottime  percall  cumtime  percall filename:lineno(function)\n",
      "     1000    0.173    0.000    0.259    0.000 2331020803.py:4(<listcomp>)\n",
      "  1000000    0.086    0.000    0.086    0.000 {method 'random' of '_random.Random' objects}\n",
      "        1    0.011    0.011    0.277    0.277 <string>:1(<module>)\n",
      "     1001    0.006    0.000    0.006    0.000 {built-in method builtins.sum}\n",
      "        1    0.000    0.000    0.006    0.006 2331020803.py:5(<listcomp>)\n",
      "        1    0.000    0.000    0.277    0.277 {built-in method builtins.exec}\n",
      "        1    0.000    0.000    0.266    0.266 2331020803.py:3(create_and_sum_matrix)\n",
      "        1    0.000    0.000    0.000    0.000 {method 'disable' of '_lsprof.Profiler' objects}"
     ]
    }
   ],
   "source": [
    "%prun create_and_sum_matrix(1000)"
   ]
  },
  {
   "cell_type": "code",
   "execution_count": null,
   "id": "b0d40039",
   "metadata": {},
   "outputs": [],
   "source": [
    "# sorted output makes it easier to read\n",
    "%prun -s tottime create_and_sum_matrix(1000)"
   ]
  },
  {
   "cell_type": "code",
   "execution_count": 30,
   "id": "c0ac6aa6",
   "metadata": {},
   "outputs": [
    {
     "name": "stdout",
     "output_type": "stream",
     "text": [
      "Collecting memory_profiler\n",
      "  Downloading memory_profiler-0.60.0.tar.gz (38 kB)\n",
      "  Preparing metadata (setup.py) ... \u001b[?25ldone\n",
      "\u001b[?25hRequirement already satisfied: psutil in /Users/asb5975/miniconda3/envs/bootcamp/lib/python3.8/site-packages (from memory_profiler) (5.9.1)\n",
      "Building wheels for collected packages: memory_profiler\n",
      "  Building wheel for memory_profiler (setup.py) ... \u001b[?25ldone\n",
      "\u001b[?25h  Created wheel for memory_profiler: filename=memory_profiler-0.60.0-py3-none-any.whl size=31267 sha256=57fe1dfe7a5e755f9b654978f963ddca588cf922ac1dcc0ac37969d03419077c\n",
      "  Stored in directory: /Users/asb5975/Library/Caches/pip/wheels/01/ca/8b/b518dd2aef69635ad6fcab87069c9c52f355a2e9c5d4c02da9\n",
      "Successfully built memory_profiler\n",
      "Installing collected packages: memory_profiler\n",
      "Successfully installed memory_profiler-0.60.0\n"
     ]
    }
   ],
   "source": [
    "!pip3 install memory_profiler\n",
    "%load_ext memory_profiler"
   ]
  },
  {
   "cell_type": "code",
   "execution_count": 31,
   "id": "9e0b1867",
   "metadata": {},
   "outputs": [
    {
     "name": "stdout",
     "output_type": "stream",
     "text": [
      "peak memory: 150.64 MiB, increment: 35.78 MiB\n"
     ]
    }
   ],
   "source": [
    "%memit create_and_sum_matrix(1000)"
   ]
  },
  {
   "cell_type": "markdown",
   "id": "1a5138ed",
   "metadata": {},
   "source": [
    "You can create new files from a single cell"
   ]
  },
  {
   "cell_type": "code",
   "execution_count": 36,
   "id": "7844ef65",
   "metadata": {},
   "outputs": [
    {
     "name": "stdout",
     "output_type": "stream",
     "text": [
      "Overwriting my_new_python_file.py\n"
     ]
    }
   ],
   "source": [
    "%%file my_new_python_file.py\n",
    "from random import random\n",
    "\n",
    "def create_and_sum_matrix(N):\n",
    "    matrix = [[random() for _ in range(N)] for _ in range(N)]\n",
    "    total_by_line = [sum(l) for l in matrix]\n",
    "    total = sum(total_by_line)\n",
    "    return total"
   ]
  },
  {
   "cell_type": "code",
   "execution_count": 37,
   "id": "b5a8c593",
   "metadata": {},
   "outputs": [
    {
     "name": "stdout",
     "output_type": "stream",
     "text": [
      "total 144\n",
      "-rw-r--r--  1 asb5975  357253257  11298 Aug 12 01:18 simple_example.ipynb\n",
      "-rw-r--r--  1 asb5975  357253257    212 Aug 12 01:18 my_new_python_file.py\n",
      "-rw-r--r--  1 asb5975  357253257   1628 Aug 12 01:06 testing.ipynb\n",
      "-rw-r--r--  1 asb5975  357253257  37699 Aug 12 01:06 with_output_testing.ipynb\n",
      "drwxr-xr-x  4 asb5975  357253257    128 Aug 11 22:36 \u001b[34mdata\u001b[m\u001b[m\n",
      "-rw-r--r--  1 asb5975  357253257    464 Aug 11 22:21 README.md\n",
      "-rw-r--r--  1 asb5975  357253257    389 Aug 11 21:58 human.info\n",
      "-rw-r--r--  1 asb5975  357253257    155 Aug 10 18:37 bootcamp.yaml\n"
     ]
    }
   ],
   "source": [
    "!ls -lt"
   ]
  },
  {
   "cell_type": "markdown",
   "id": "fa0a3e7e",
   "metadata": {},
   "source": [
    "## Example mixing bash and python"
   ]
  },
  {
   "cell_type": "code",
   "execution_count": null,
   "id": "5cdbc1d6",
   "metadata": {},
   "outputs": [],
   "source": [
    "# https://www.encodeproject.org/files/ENCFF451IKJ/\n",
    "import os\n",
    "if not os.path.isfile('./data/ENCFF451IKJ.bigWig'):\n",
    "    !mkdir -p ./data\n",
    "    !wget -P ./data https://www.encodeproject.org/files/ENCFF451IKJ/@@download/ENCFF451IKJ.bigWig\n",
    "else:\n",
    "    print(\"file already exists\")"
   ]
  },
  {
   "cell_type": "code",
   "execution_count": null,
   "id": "56664ca5",
   "metadata": {},
   "outputs": [],
   "source": [
    "chrom = \"chr21\"\n",
    "infile = \"./data/ENCFF451IKJ.bigWig\"\n",
    "outfile = \"./data/\"+  chrom + \"_ENCFF451IKJ.bedgraph\"\n",
    "!bigWigToBedGraph -chrom=$chrom $infile $outfile"
   ]
  }
 ],
 "metadata": {
  "kernelspec": {
   "display_name": "Python 3 (ipykernel)",
   "language": "python",
   "name": "python3"
  },
  "language_info": {
   "codemirror_mode": {
    "name": "ipython",
    "version": 3
   },
   "file_extension": ".py",
   "mimetype": "text/x-python",
   "name": "python",
   "nbconvert_exporter": "python",
   "pygments_lexer": "ipython3",
   "version": "3.8.13"
  },
  "vscode": {
   "interpreter": {
    "hash": "32599ecccfc3b96b1873681ca49c3a88d364a31cf50ab717aeb3c9744c1a4fd1"
   }
  }
 },
 "nbformat": 4,
 "nbformat_minor": 5
}
