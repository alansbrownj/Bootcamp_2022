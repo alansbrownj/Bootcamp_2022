{
 "cells": [
  {
   "cell_type": "code",
   "execution_count": 1,
   "id": "5d439021-b49f-4ca4-b296-3967ba7058a1",
   "metadata": {},
   "outputs": [
    {
     "name": "stdout",
     "output_type": "stream",
     "text": [
      "testing!\n"
     ]
    }
   ],
   "source": [
    "print(\"testing!\")"
   ]
  },
  {
   "cell_type": "code",
   "execution_count": 2,
   "id": "fec4622c",
   "metadata": {},
   "outputs": [
    {
     "name": "stdout",
     "output_type": "stream",
     "text": [
      "Done! Final i val was 333332833333500000\n",
      "Done! Final i val was 333332833333500000\n",
      "Done! Final i val was 333332833333500000\n",
      "298 ms ± 9.25 ms per loop (mean ± std. dev. of 3 runs, 1 loop each)\n"
     ]
    }
   ],
   "source": [
    "%%timeit -n 1 -r 3\n",
    "loops = int(1e+6)\n",
    "x = 0\n",
    "for i in range(loops):\n",
    "    x += i**2\n",
    "print(f\"Done! Final i val was {x}\")"
   ]
  }
 ],
 "metadata": {
  "kernelspec": {
   "display_name": "Python 3 (ipykernel)",
   "language": "python",
   "name": "python3"
  },
  "language_info": {
   "codemirror_mode": {
    "name": "ipython",
    "version": 3
   },
   "file_extension": ".py",
   "mimetype": "text/x-python",
   "name": "python",
   "nbconvert_exporter": "python",
   "pygments_lexer": "ipython3",
   "version": "3.8.13"
  },
  "vscode": {
   "interpreter": {
    "hash": "32599ecccfc3b96b1873681ca49c3a88d364a31cf50ab717aeb3c9744c1a4fd1"
   }
  }
 },
 "nbformat": 4,
 "nbformat_minor": 5
}
